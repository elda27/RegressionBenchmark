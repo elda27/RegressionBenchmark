{
 "cells": [
  {
   "cell_type": "code",
   "execution_count": 39,
   "metadata": {},
   "outputs": [],
   "source": [
    "import numpy as np\n",
    "import pandas as pd\n",
    "from tqdm.notebook import tqdm, trange\n",
    "import lightgbm as lgb\n",
    "import _pickle as pickle\n",
    "from pathlib import Path"
   ]
  },
  {
   "cell_type": "code",
   "execution_count": 46,
   "metadata": {
    "colab": {},
    "colab_type": "code",
    "id": "p2GQ39YGr2YC"
   },
   "outputs": [
    {
     "name": "stdout",
     "output_type": "stream",
     "text": [
      "Index(['Id', 'MSSubClass', 'MSZoning', 'LotFrontage', 'LotArea', 'Street',\n",
      "       'Alley', 'LotShape', 'LandContour', 'Utilities', 'LotConfig',\n",
      "       'LandSlope', 'Neighborhood', 'Condition1', 'Condition2', 'BldgType',\n",
      "       'HouseStyle', 'OverallQual', 'OverallCond', 'YearBuilt', 'YearRemodAdd',\n",
      "       'RoofStyle', 'RoofMatl', 'Exterior1st', 'Exterior2nd', 'MasVnrType',\n",
      "       'MasVnrArea', 'ExterQual', 'ExterCond', 'Foundation', 'BsmtQual',\n",
      "       'BsmtCond', 'BsmtExposure', 'BsmtFinType1', 'BsmtFinSF1',\n",
      "       'BsmtFinType2', 'BsmtFinSF2', 'BsmtUnfSF', 'TotalBsmtSF', 'Heating',\n",
      "       'HeatingQC', 'CentralAir', 'Electrical', '1stFlrSF', '2ndFlrSF',\n",
      "       'LowQualFinSF', 'GrLivArea', 'BsmtFullBath', 'BsmtHalfBath', 'FullBath',\n",
      "       'HalfBath', 'BedroomAbvGr', 'KitchenAbvGr', 'KitchenQual',\n",
      "       'TotRmsAbvGrd', 'Functional', 'Fireplaces', 'FireplaceQu', 'GarageType',\n",
      "       'GarageYrBlt', 'GarageFinish', 'GarageCars', 'GarageArea', 'GarageQual',\n",
      "       'GarageCond', 'PavedDrive', 'WoodDeckSF', 'OpenPorchSF',\n",
      "       'EnclosedPorch', '3SsnPorch', 'ScreenPorch', 'PoolArea', 'PoolQC',\n",
      "       'Fence', 'MiscFeature', 'MiscVal', 'MoSold', 'YrSold', 'SaleType',\n",
      "       'SaleCondition', 'SalePrice'],\n",
      "      dtype='object')\n"
     ]
    },
    {
     "data": {
      "text/html": [
       "<div>\n",
       "<style scoped>\n",
       "    .dataframe tbody tr th:only-of-type {\n",
       "        vertical-align: middle;\n",
       "    }\n",
       "\n",
       "    .dataframe tbody tr th {\n",
       "        vertical-align: top;\n",
       "    }\n",
       "\n",
       "    .dataframe thead th {\n",
       "        text-align: right;\n",
       "    }\n",
       "</style>\n",
       "<table border=\"1\" class=\"dataframe\">\n",
       "  <thead>\n",
       "    <tr style=\"text-align: right;\">\n",
       "      <th></th>\n",
       "      <th>Id</th>\n",
       "      <th>MSSubClass</th>\n",
       "      <th>MSZoning</th>\n",
       "      <th>LotFrontage</th>\n",
       "      <th>LotArea</th>\n",
       "      <th>Street</th>\n",
       "      <th>Alley</th>\n",
       "      <th>LotShape</th>\n",
       "      <th>LandContour</th>\n",
       "      <th>Utilities</th>\n",
       "      <th>...</th>\n",
       "      <th>PoolArea</th>\n",
       "      <th>PoolQC</th>\n",
       "      <th>Fence</th>\n",
       "      <th>MiscFeature</th>\n",
       "      <th>MiscVal</th>\n",
       "      <th>MoSold</th>\n",
       "      <th>YrSold</th>\n",
       "      <th>SaleType</th>\n",
       "      <th>SaleCondition</th>\n",
       "      <th>SalePrice</th>\n",
       "    </tr>\n",
       "  </thead>\n",
       "  <tbody>\n",
       "    <tr>\n",
       "      <th>0</th>\n",
       "      <td>1</td>\n",
       "      <td>60</td>\n",
       "      <td>RL</td>\n",
       "      <td>65.0</td>\n",
       "      <td>8450</td>\n",
       "      <td>Pave</td>\n",
       "      <td>NaN</td>\n",
       "      <td>Reg</td>\n",
       "      <td>Lvl</td>\n",
       "      <td>AllPub</td>\n",
       "      <td>...</td>\n",
       "      <td>0</td>\n",
       "      <td>NaN</td>\n",
       "      <td>NaN</td>\n",
       "      <td>NaN</td>\n",
       "      <td>0</td>\n",
       "      <td>2</td>\n",
       "      <td>2008</td>\n",
       "      <td>WD</td>\n",
       "      <td>Normal</td>\n",
       "      <td>208500</td>\n",
       "    </tr>\n",
       "    <tr>\n",
       "      <th>1</th>\n",
       "      <td>2</td>\n",
       "      <td>20</td>\n",
       "      <td>RL</td>\n",
       "      <td>80.0</td>\n",
       "      <td>9600</td>\n",
       "      <td>Pave</td>\n",
       "      <td>NaN</td>\n",
       "      <td>Reg</td>\n",
       "      <td>Lvl</td>\n",
       "      <td>AllPub</td>\n",
       "      <td>...</td>\n",
       "      <td>0</td>\n",
       "      <td>NaN</td>\n",
       "      <td>NaN</td>\n",
       "      <td>NaN</td>\n",
       "      <td>0</td>\n",
       "      <td>5</td>\n",
       "      <td>2007</td>\n",
       "      <td>WD</td>\n",
       "      <td>Normal</td>\n",
       "      <td>181500</td>\n",
       "    </tr>\n",
       "    <tr>\n",
       "      <th>2</th>\n",
       "      <td>3</td>\n",
       "      <td>60</td>\n",
       "      <td>RL</td>\n",
       "      <td>68.0</td>\n",
       "      <td>11250</td>\n",
       "      <td>Pave</td>\n",
       "      <td>NaN</td>\n",
       "      <td>IR1</td>\n",
       "      <td>Lvl</td>\n",
       "      <td>AllPub</td>\n",
       "      <td>...</td>\n",
       "      <td>0</td>\n",
       "      <td>NaN</td>\n",
       "      <td>NaN</td>\n",
       "      <td>NaN</td>\n",
       "      <td>0</td>\n",
       "      <td>9</td>\n",
       "      <td>2008</td>\n",
       "      <td>WD</td>\n",
       "      <td>Normal</td>\n",
       "      <td>223500</td>\n",
       "    </tr>\n",
       "    <tr>\n",
       "      <th>3</th>\n",
       "      <td>4</td>\n",
       "      <td>70</td>\n",
       "      <td>RL</td>\n",
       "      <td>60.0</td>\n",
       "      <td>9550</td>\n",
       "      <td>Pave</td>\n",
       "      <td>NaN</td>\n",
       "      <td>IR1</td>\n",
       "      <td>Lvl</td>\n",
       "      <td>AllPub</td>\n",
       "      <td>...</td>\n",
       "      <td>0</td>\n",
       "      <td>NaN</td>\n",
       "      <td>NaN</td>\n",
       "      <td>NaN</td>\n",
       "      <td>0</td>\n",
       "      <td>2</td>\n",
       "      <td>2006</td>\n",
       "      <td>WD</td>\n",
       "      <td>Abnorml</td>\n",
       "      <td>140000</td>\n",
       "    </tr>\n",
       "    <tr>\n",
       "      <th>4</th>\n",
       "      <td>5</td>\n",
       "      <td>60</td>\n",
       "      <td>RL</td>\n",
       "      <td>84.0</td>\n",
       "      <td>14260</td>\n",
       "      <td>Pave</td>\n",
       "      <td>NaN</td>\n",
       "      <td>IR1</td>\n",
       "      <td>Lvl</td>\n",
       "      <td>AllPub</td>\n",
       "      <td>...</td>\n",
       "      <td>0</td>\n",
       "      <td>NaN</td>\n",
       "      <td>NaN</td>\n",
       "      <td>NaN</td>\n",
       "      <td>0</td>\n",
       "      <td>12</td>\n",
       "      <td>2008</td>\n",
       "      <td>WD</td>\n",
       "      <td>Normal</td>\n",
       "      <td>250000</td>\n",
       "    </tr>\n",
       "    <tr>\n",
       "      <th>...</th>\n",
       "      <td>...</td>\n",
       "      <td>...</td>\n",
       "      <td>...</td>\n",
       "      <td>...</td>\n",
       "      <td>...</td>\n",
       "      <td>...</td>\n",
       "      <td>...</td>\n",
       "      <td>...</td>\n",
       "      <td>...</td>\n",
       "      <td>...</td>\n",
       "      <td>...</td>\n",
       "      <td>...</td>\n",
       "      <td>...</td>\n",
       "      <td>...</td>\n",
       "      <td>...</td>\n",
       "      <td>...</td>\n",
       "      <td>...</td>\n",
       "      <td>...</td>\n",
       "      <td>...</td>\n",
       "      <td>...</td>\n",
       "      <td>...</td>\n",
       "    </tr>\n",
       "    <tr>\n",
       "      <th>1455</th>\n",
       "      <td>1456</td>\n",
       "      <td>60</td>\n",
       "      <td>RL</td>\n",
       "      <td>62.0</td>\n",
       "      <td>7917</td>\n",
       "      <td>Pave</td>\n",
       "      <td>NaN</td>\n",
       "      <td>Reg</td>\n",
       "      <td>Lvl</td>\n",
       "      <td>AllPub</td>\n",
       "      <td>...</td>\n",
       "      <td>0</td>\n",
       "      <td>NaN</td>\n",
       "      <td>NaN</td>\n",
       "      <td>NaN</td>\n",
       "      <td>0</td>\n",
       "      <td>8</td>\n",
       "      <td>2007</td>\n",
       "      <td>WD</td>\n",
       "      <td>Normal</td>\n",
       "      <td>175000</td>\n",
       "    </tr>\n",
       "    <tr>\n",
       "      <th>1456</th>\n",
       "      <td>1457</td>\n",
       "      <td>20</td>\n",
       "      <td>RL</td>\n",
       "      <td>85.0</td>\n",
       "      <td>13175</td>\n",
       "      <td>Pave</td>\n",
       "      <td>NaN</td>\n",
       "      <td>Reg</td>\n",
       "      <td>Lvl</td>\n",
       "      <td>AllPub</td>\n",
       "      <td>...</td>\n",
       "      <td>0</td>\n",
       "      <td>NaN</td>\n",
       "      <td>MnPrv</td>\n",
       "      <td>NaN</td>\n",
       "      <td>0</td>\n",
       "      <td>2</td>\n",
       "      <td>2010</td>\n",
       "      <td>WD</td>\n",
       "      <td>Normal</td>\n",
       "      <td>210000</td>\n",
       "    </tr>\n",
       "    <tr>\n",
       "      <th>1457</th>\n",
       "      <td>1458</td>\n",
       "      <td>70</td>\n",
       "      <td>RL</td>\n",
       "      <td>66.0</td>\n",
       "      <td>9042</td>\n",
       "      <td>Pave</td>\n",
       "      <td>NaN</td>\n",
       "      <td>Reg</td>\n",
       "      <td>Lvl</td>\n",
       "      <td>AllPub</td>\n",
       "      <td>...</td>\n",
       "      <td>0</td>\n",
       "      <td>NaN</td>\n",
       "      <td>GdPrv</td>\n",
       "      <td>Shed</td>\n",
       "      <td>2500</td>\n",
       "      <td>5</td>\n",
       "      <td>2010</td>\n",
       "      <td>WD</td>\n",
       "      <td>Normal</td>\n",
       "      <td>266500</td>\n",
       "    </tr>\n",
       "    <tr>\n",
       "      <th>1458</th>\n",
       "      <td>1459</td>\n",
       "      <td>20</td>\n",
       "      <td>RL</td>\n",
       "      <td>68.0</td>\n",
       "      <td>9717</td>\n",
       "      <td>Pave</td>\n",
       "      <td>NaN</td>\n",
       "      <td>Reg</td>\n",
       "      <td>Lvl</td>\n",
       "      <td>AllPub</td>\n",
       "      <td>...</td>\n",
       "      <td>0</td>\n",
       "      <td>NaN</td>\n",
       "      <td>NaN</td>\n",
       "      <td>NaN</td>\n",
       "      <td>0</td>\n",
       "      <td>4</td>\n",
       "      <td>2010</td>\n",
       "      <td>WD</td>\n",
       "      <td>Normal</td>\n",
       "      <td>142125</td>\n",
       "    </tr>\n",
       "    <tr>\n",
       "      <th>1459</th>\n",
       "      <td>1460</td>\n",
       "      <td>20</td>\n",
       "      <td>RL</td>\n",
       "      <td>75.0</td>\n",
       "      <td>9937</td>\n",
       "      <td>Pave</td>\n",
       "      <td>NaN</td>\n",
       "      <td>Reg</td>\n",
       "      <td>Lvl</td>\n",
       "      <td>AllPub</td>\n",
       "      <td>...</td>\n",
       "      <td>0</td>\n",
       "      <td>NaN</td>\n",
       "      <td>NaN</td>\n",
       "      <td>NaN</td>\n",
       "      <td>0</td>\n",
       "      <td>6</td>\n",
       "      <td>2008</td>\n",
       "      <td>WD</td>\n",
       "      <td>Normal</td>\n",
       "      <td>147500</td>\n",
       "    </tr>\n",
       "  </tbody>\n",
       "</table>\n",
       "<p>1460 rows × 81 columns</p>\n",
       "</div>"
      ],
      "text/plain": [
       "        Id  MSSubClass MSZoning  LotFrontage  LotArea Street Alley LotShape  \\\n",
       "0        1          60       RL         65.0     8450   Pave   NaN      Reg   \n",
       "1        2          20       RL         80.0     9600   Pave   NaN      Reg   \n",
       "2        3          60       RL         68.0    11250   Pave   NaN      IR1   \n",
       "3        4          70       RL         60.0     9550   Pave   NaN      IR1   \n",
       "4        5          60       RL         84.0    14260   Pave   NaN      IR1   \n",
       "...    ...         ...      ...          ...      ...    ...   ...      ...   \n",
       "1455  1456          60       RL         62.0     7917   Pave   NaN      Reg   \n",
       "1456  1457          20       RL         85.0    13175   Pave   NaN      Reg   \n",
       "1457  1458          70       RL         66.0     9042   Pave   NaN      Reg   \n",
       "1458  1459          20       RL         68.0     9717   Pave   NaN      Reg   \n",
       "1459  1460          20       RL         75.0     9937   Pave   NaN      Reg   \n",
       "\n",
       "     LandContour Utilities  ... PoolArea PoolQC  Fence MiscFeature MiscVal  \\\n",
       "0            Lvl    AllPub  ...        0    NaN    NaN         NaN       0   \n",
       "1            Lvl    AllPub  ...        0    NaN    NaN         NaN       0   \n",
       "2            Lvl    AllPub  ...        0    NaN    NaN         NaN       0   \n",
       "3            Lvl    AllPub  ...        0    NaN    NaN         NaN       0   \n",
       "4            Lvl    AllPub  ...        0    NaN    NaN         NaN       0   \n",
       "...          ...       ...  ...      ...    ...    ...         ...     ...   \n",
       "1455         Lvl    AllPub  ...        0    NaN    NaN         NaN       0   \n",
       "1456         Lvl    AllPub  ...        0    NaN  MnPrv         NaN       0   \n",
       "1457         Lvl    AllPub  ...        0    NaN  GdPrv        Shed    2500   \n",
       "1458         Lvl    AllPub  ...        0    NaN    NaN         NaN       0   \n",
       "1459         Lvl    AllPub  ...        0    NaN    NaN         NaN       0   \n",
       "\n",
       "     MoSold YrSold  SaleType  SaleCondition  SalePrice  \n",
       "0         2   2008        WD         Normal     208500  \n",
       "1         5   2007        WD         Normal     181500  \n",
       "2         9   2008        WD         Normal     223500  \n",
       "3         2   2006        WD        Abnorml     140000  \n",
       "4        12   2008        WD         Normal     250000  \n",
       "...     ...    ...       ...            ...        ...  \n",
       "1455      8   2007        WD         Normal     175000  \n",
       "1456      2   2010        WD         Normal     210000  \n",
       "1457      5   2010        WD         Normal     266500  \n",
       "1458      4   2010        WD         Normal     142125  \n",
       "1459      6   2008        WD         Normal     147500  \n",
       "\n",
       "[1460 rows x 81 columns]"
      ]
     },
     "metadata": {},
     "output_type": "display_data"
    }
   ],
   "source": [
    "orig_train_df = pd.read_csv(str('train.csv'))\n",
    "orig_test_df = pd.read_csv(str('test.csv'))\n",
    "print(orig_train_df.columns)\n",
    "display(orig_train_df)"
   ]
  },
  {
   "cell_type": "code",
   "execution_count": 259,
   "metadata": {},
   "outputs": [
    {
     "data": {
      "text/plain": [
       "0       1\n",
       "1       1\n",
       "2       1\n",
       "3       1\n",
       "4       1\n",
       "       ..\n",
       "1455    1\n",
       "1456    1\n",
       "1457    3\n",
       "1458    1\n",
       "1459    1\n",
       "Name: MiscFeature, Length: 1460, dtype: int64"
      ]
     },
     "execution_count": 259,
     "metadata": {},
     "output_type": "execute_result"
    }
   ],
   "source": [
    "class CategoricalConverter:\n",
    "    def __init__(self, to_dummy=False):\n",
    "        self.forward_dict = None\n",
    "        \n",
    "    @property\n",
    "    def backward_dict(self):\n",
    "        if self.forward_dict is None:\n",
    "            return None\n",
    "        return dict(zip(self.forward_dict.values(), self.forward_dict.keys()))\n",
    "    \n",
    "    def forward(self, x):\n",
    "        assert x.dtype.kind in ('O', 'i')\n",
    "        x = x.fillna('NA')\n",
    "        ux = np.unique(x)\n",
    "        self.forward_dict = {'NA': -1} \n",
    "        self.forward_dict.update(\n",
    "            dict(zip(ux, np.arange(len(ux))))\n",
    "        )\n",
    "        \n",
    "        return x.replace(self.forward_dict)\n",
    "    \n",
    "    def backward(self, x):\n",
    "        return x.replace(self.backward_dict)\n",
    "    \n",
    "class FloatConverter:\n",
    "    def __init__(self, log=False, fillna=None):\n",
    "        self.log = log\n",
    "        self.fillna = fillna\n",
    "    \n",
    "    def apply_fillna(self, x):\n",
    "        fillna_method = self.fillna\n",
    "        if isinstance(fillna_method, str):\n",
    "            value = getattr(x, fillna_method)()\n",
    "        else:\n",
    "            value = fillna_method\n",
    "        return x.fillna(value)\n",
    "        \n",
    "    def forward(self, x):\n",
    "        y = x.astype(np.float32)\n",
    "        if self.log:\n",
    "            y = np.log(y + 1)\n",
    "        if self.fillna is not None:\n",
    "            y = self.apply_fillna(y)\n",
    "        return y\n",
    "    \n",
    "    def backward(self, x):\n",
    "        if self.log:\n",
    "            x = np.exp(x)\n",
    "        return x\n",
    "    \n",
    "class DummyConverter:\n",
    "    def __init__(self):\n",
    "        pass\n",
    "        \n",
    "    def forward(self, xs):\n",
    "        ys = pd.get_dummies(xs)\n",
    "        return ys\n",
    "    \n",
    "    def backward(self, x):\n",
    "        raise NotImplementedError()\n",
    "\n",
    "    \n",
    "    \n",
    "CategoricalConverter().forward(orig_train_df['MiscFeature'])"
   ]
  },
  {
   "cell_type": "code",
   "execution_count": 329,
   "metadata": {},
   "outputs": [],
   "source": [
    "from sklearn.model_selection import KFold, train_test_split\n",
    "indices_file = Path('indices.pickle')\n",
    "indices = []\n",
    "\n",
    "KFOLD = 5\n",
    "\n",
    "if indices_file.exists():\n",
    "    with open(indices_file, 'rb') as fp:\n",
    "        indices = pickle.load(fp)\n",
    "else:\n",
    "    inds = np.arange(len(orig_train_df))\n",
    "    kfold = KFold(KFOLD)\n",
    "    for train_indices, test_indices in kfold.split(inds):\n",
    "        train_indices, valid_indices = train_test_split(train_indices, train_size=0.8)\n",
    "        indices.append({\n",
    "            'train': train_indices,\n",
    "            'valid': valid_indices,\n",
    "            'test': test_indices,\n",
    "        })"
   ]
  },
  {
   "cell_type": "code",
   "execution_count": 331,
   "metadata": {},
   "outputs": [],
   "source": [
    "converters = {}\n",
    "def get_dataset(fold_index, no_valid = False):\n",
    "    fold_indices = indices[fold_index]\n",
    "    train_indices = fold_indices['train']\n",
    "    valid_indices = fold_indices['valid']\n",
    "    testg_indices = fold_indices['test']\n",
    "    if no_valid:\n",
    "        test_df = orig_test_df\n",
    "        valid_df = orig_train_df.iloc[test_indices]\n",
    "        train_df = orig_train_df.iloc[np.concatenate([train_indices, valid_indices])]\n",
    "    else:\n",
    "        train_df = orig_train_df.iloc[train_indices]\n",
    "        valid_df = orig_train_df.iloc[valid_indices]\n",
    "        test_df = orig_train_df.iloc[test_indices]\n",
    "        \n",
    "    return train_df, valid_df, test_df\n",
    "\n",
    "def preprocess_xs(xs_df, converters=None, fillna=None):\n",
    "    if converters is None:\n",
    "        converters = {}\n",
    "        for col, dtype in xs_df.dtypes.items():\n",
    "            if dtype.kind == 'O':\n",
    "                conv = CategoricalConverter()\n",
    "            else:\n",
    "                conv = FloatConverter(fillna=fillna)\n",
    "            converters[col] = conv\n",
    "\n",
    "    for col in xs_df.columns:\n",
    "        xs_df.loc[:, col] = converters[col].forward(xs_df[col])\n",
    "    \n",
    "    return xs_df, converters\n",
    "        \n",
    "def preprocess(xs_df, ys_df, converters=None, y_log=True, **kwargs):\n",
    "    xs_df, converters = preprocess_xs(xs_df, converters=converters, **kwargs)\n",
    "    if ys_df is not None:\n",
    "        conv = FloatConverter(log=y_log)\n",
    "        converters['SalePrice'] = conv\n",
    "        ys_df = conv.forward(ys_df)\n",
    "    return xs_df, ys_df, converters\n",
    "\n",
    "def get_data(df, no_y=False, **kwargs):\n",
    "    if no_y:\n",
    "        df, _ = preprocess(df, None, **kwargs)\n",
    "        return df\n",
    "    else:\n",
    "        xs_df =  df.drop(columns=['SalePrice'])\n",
    "        ys_df = df['SalePrice']\n",
    "        return preprocess(xs_df, ys_df, **kwargs)\n"
   ]
  },
  {
   "cell_type": "code",
   "execution_count": 332,
   "metadata": {},
   "outputs": [],
   "source": [
    "no_valid = False\n",
    "train_df, valid_df, test_df = get_dataset(0, no_valid=no_valid)\n",
    "if no_valid:\n",
    "    train_df = get_data(train_df)\n",
    "    valid_df = get_data(valid_df)\n",
    "    test_xs_df = get_data(test_df, no_y=True)\n",
    "else:\n",
    "    train_xs_df, train_ys_df, converters = get_data(train_df, fillna='median')\n",
    "    valid_xs_df, valid_ys_df, _ = get_data(valid_df, converters=converters)\n",
    "    test_xs_df, test_ys_df, _ = get_data(test_df, converters=converters)"
   ]
  },
  {
   "cell_type": "markdown",
   "metadata": {},
   "source": [
    "# Baseline (LightGBM)"
   ]
  },
  {
   "cell_type": "code",
   "execution_count": 75,
   "metadata": {},
   "outputs": [
    {
     "data": {
      "text/plain": [
       "LGBMModel(boosting_type='gbdt', class_weight=None, colsample_bytree=1.0,\n",
       "          importance_type='split', lambda_l1=0.1, lambda_l2=10.0,\n",
       "          learning_rate=0.01, max_depth=8, min_child_samples=20,\n",
       "          min_child_weight=0.001, min_split_gain=0.0, n_estimators=2000,\n",
       "          n_jobs=16, num_leaves=31, objective='fair', random_state=None,\n",
       "          reg_alpha=0.0, reg_lambda=0.0, silent=True, subsample=1.0,\n",
       "          subsample_for_bin=200000, subsample_freq=0, verbosity=-1)"
      ]
     },
     "execution_count": 75,
     "metadata": {},
     "output_type": "execute_result"
    }
   ],
   "source": [
    "model_params = dict(\n",
    "    n_estimators=2000,\n",
    "    learning_rate=1e-2,\n",
    "    verbosity=-1,\n",
    "    objective='fair',\n",
    "    n_jobs=16,\n",
    "    max_depth=8,\n",
    "    lambda_l1=1e-1,\n",
    "    lambda_l2=1e1,\n",
    ")\n",
    "lgb.LGBMModel(**model_params)"
   ]
  },
  {
   "cell_type": "code",
   "execution_count": 78,
   "metadata": {},
   "outputs": [
    {
     "data": {
      "application/vnd.jupyter.widget-view+json": {
       "model_id": "ba15d751a4f94b64aac170f409cc18c9",
       "version_major": 2,
       "version_minor": 0
      },
      "text/plain": [
       "HBox(children=(FloatProgress(value=0.0, max=5.0), HTML(value='')))"
      ]
     },
     "metadata": {},
     "output_type": "display_data"
    },
    {
     "name": "stdout",
     "output_type": "stream",
     "text": [
      "\n"
     ]
    }
   ],
   "source": [
    "models = []\n",
    "for i in trange(KFOLD):\n",
    "    train_df, valid_df, test_df = get_dataset(i, no_valid=no_valid)\n",
    "    train_xs_df, train_ys_df, converters = get_data(train_df)\n",
    "    valid_xs_df, valid_ys_df, _ = get_data(valid_df, converters=converters)\n",
    "    test_xs_df, test_ys_df, _ = get_data(test_df, converters=converters)\n",
    "        \n",
    "    model = lgb.LGBMModel(**model_params)\n",
    "    model.fit(\n",
    "        train_xs_df, train_ys_df,\n",
    "        eval_set=(valid_xs_df, valid_ys_df),\n",
    "        verbose=False\n",
    "    )\n",
    "    models.append(model)"
   ]
  },
  {
   "cell_type": "code",
   "execution_count": 94,
   "metadata": {},
   "outputs": [],
   "source": [
    "# Evaluation models\n",
    "gbdt_metrics = []\n",
    "for key, model in enumerate(models):\n",
    "    train_df, valid_df, test_df = get_dataset(i, no_valid=no_valid)\n",
    "    train_xs_df, train_ys_df, _ = get_data(train_df, converters=converters)\n",
    "    valid_xs_df, valid_ys_df, _ = get_data(valid_df, converters=converters)\n",
    "    test_xs_df, test_ys_df, _ = get_data(test_df, converters=converters)\n",
    "    \n",
    "    data = [\n",
    "        ('train', train_xs_df, train_ys_df),\n",
    "        ('valid', valid_xs_df, valid_ys_df),\n",
    "        ('test', test_xs_df, test_ys_df),\n",
    "    ]\n",
    "    \n",
    "    ys_conv = converters['SalePrice']\n",
    "    for name, xs_df, ys_df in data:\n",
    "        ys_pred = ys_conv.backward(model.predict(xs_df))\n",
    "        ys_truth = ys_conv.backward(ys_df.to_numpy())\n",
    "        \n",
    "        errors = np.abs(ys_pred - ys_truth)\n",
    "        gbdt_metrics.extend([\n",
    "            {\n",
    "                'id': i,\n",
    "                'fold': key,\n",
    "                'error': error,\n",
    "                'name': name,\n",
    "                'truth': truth, \n",
    "                'pred': pred\n",
    "            }\n",
    "            for i, error, pred, truth in zip(xs_df['Id'], errors, ys_pred, ys_truth)\n",
    "        ])\n",
    "gbdt_metrics_df = pd.DataFrame(gbdt_metrics)"
   ]
  },
  {
   "cell_type": "code",
   "execution_count": 232,
   "metadata": {},
   "outputs": [
    {
     "name": "stdout",
     "output_type": "stream",
     "text": [
      "train\n"
     ]
    },
    {
     "data": {
      "text/plain": [
       "count      2990.000000\n",
       "mean       8536.184204\n",
       "std       15825.960202\n",
       "min           7.769069\n",
       "25%        1522.933782\n",
       "50%        3744.048908\n",
       "75%        9484.004253\n",
       "max      343265.038974\n",
       "Name: error, dtype: float64"
      ]
     },
     "metadata": {},
     "output_type": "display_data"
    },
    {
     "name": "stdout",
     "output_type": "stream",
     "text": [
      "valid\n"
     ]
    },
    {
     "data": {
      "text/plain": [
       "count       750.000000\n",
       "mean      16046.309982\n",
       "std       25487.385267\n",
       "min          15.515455\n",
       "25%        4054.779298\n",
       "50%        9548.414848\n",
       "75%       18940.595513\n",
       "max      319816.294260\n",
       "Name: error, dtype: float64"
      ]
     },
     "metadata": {},
     "output_type": "display_data"
    },
    {
     "name": "stdout",
     "output_type": "stream",
     "text": [
      "test\n"
     ]
    },
    {
     "data": {
      "text/plain": [
       "count       930.000000\n",
       "mean      13028.965550\n",
       "std       15801.409632\n",
       "min           5.419089\n",
       "25%        4036.365889\n",
       "50%        8960.300927\n",
       "75%       16697.865202\n",
       "max      186222.937979\n",
       "Name: error, dtype: float64"
      ]
     },
     "metadata": {},
     "output_type": "display_data"
    },
    {
     "data": {
      "image/png": "[encoded data removed]",
      "text/plain": [
       "<Figure size 432x288 with 1 Axes>"
      ]
     },
     "metadata": {
      "needs_background": "light"
     },
     "output_type": "display_data"
    },
    {
     "data": {
      "image/png": "[encoded data removed]",
      "text/plain": [
       "<Figure size 432x432 with 3 Axes>"
      ]
     },
     "metadata": {
      "needs_background": "light"
     },
     "output_type": "display_data"
    },
    {
     "data": {
      "image/png": "[encoded data removed]",
      "text/plain": [
       "<Figure size 432x432 with 3 Axes>"
      ]
     },
     "metadata": {
      "needs_background": "light"
     },
     "output_type": "display_data"
    },
    {
     "data": {
      "image/png": "[encoded data removed]",
      "text/plain": [
       "<Figure size 432x432 with 3 Axes>"
      ]
     },
     "metadata": {
      "needs_background": "light"
     },
     "output_type": "display_data"
    }
   ],
   "source": [
    "import seaborn as sns\n",
    "import matplotlib.pyplot as plt\n",
    "fig, ax = plt.subplots()\n",
    "sns.boxplot(\n",
    "    data=gbdt_metrics_df,\n",
    "    x='name',\n",
    "    y='error',\n",
    "    ax=ax,\n",
    ")\n",
    "ax.set_yscale('log')\n",
    "\n",
    "max_price = gbdt_metrics_df['truth'].max()\n",
    "for name in ['train', 'valid', 'test']:\n",
    "    df = gbdt_metrics_df.query(f'name==\"{name}\"')\n",
    "    grid = sns.jointplot(\n",
    "        data=df,\n",
    "        x='truth',\n",
    "        y='pred',\n",
    "    )\n",
    "    grid.ax_joint.plot([0,max_price], [0,max_price], color='k', linestyle='--')\n",
    "    print(name)\n",
    "    display(df['error'].describe())"
   ]
  },
  {
   "cell_type": "markdown",
   "metadata": {},
   "source": [
    "# Deep Learning"
   ]
  },
  {
   "cell_type": "code",
   "execution_count": 344,
   "metadata": {
    "colab": {},
    "colab_type": "code",
    "id": "tozlFAysrxbU"
   },
   "outputs": [
    {
     "name": "stdout",
     "output_type": "stream",
     "text": [
      "(64,)\n"
     ]
    }
   ],
   "source": [
    "import tensorflow as tf\n",
    "import numpy as np\n",
    "from collections import defaultdict\n",
    "from io import BytesIO\n",
    "import imageio\n",
    "from IPython.display import display_png, clear_output, Image\n",
    "\n",
    "class DenseRegressor(tf.keras.Model):\n",
    "    def __init__(self, units, activation=tf.nn.elu, **kwargs):\n",
    "        super().__init__()\n",
    "        self.dense_layers = []\n",
    "        for dim in units[:-1]:\n",
    "            self.layers.append(\n",
    "                tf.keras.layers.Dense(dim, activation, **kwargs)\n",
    "            )\n",
    "        self.dense_layers.append(\n",
    "            tf.keras.layers.Dense(units[-1], **kwargs)\n",
    "        )\n",
    "    def call(self, x):\n",
    "        y = x\n",
    "        for d in self.dense_layers:\n",
    "            y = d(y)\n",
    "        return y\n",
    "\n",
    "class ResidualDense(tf.keras.Model):\n",
    "    def __init__(self, units, use_bn=True, activation=tf.nn.elu, **kwargs):\n",
    "        super().__init__()\n",
    "        self.bn1 = tf.keras.layers.BatchNormalization()\n",
    "        self.d1 = tf.keras.layers.Dense(units, **kwargs)\n",
    "        self.bn2 = tf.keras.layers.BatchNormalization()\n",
    "        self.d2 = tf.keras.layers.Dense(units, **kwargs)\n",
    "        self.activation = activation\n",
    "\n",
    "    @tf.function\n",
    "    def call(self, x, training=True):\n",
    "        y = self.activation(self.d1(self.bn1(x, training=training), training=training))\n",
    "        y = self.activation(self.d2(self.bn2(y, training=training), training=training))\n",
    "        return y + x\n",
    "\n",
    "\n",
    "class ResidualRegressor(tf.keras.Model):\n",
    "    def __init__(self, output_dim, n_layers=40, n_dims=None, **kwargs):\n",
    "        super().__init__()\n",
    "        if n_dims is None:\n",
    "            n_dims = output_dim\n",
    "        self.d0 = tf.keras.layers.Dense(n_dims, activation=tf.nn.elu, **kwargs)\n",
    "        self.dense_layers = [\n",
    "            ResidualDense(n_dims, **kwargs) for i in range(n_layers)\n",
    "        ]\n",
    "        self. d1 = tf.keras.layers.Dense(output_dim, activation=None)\n",
    "        \n",
    "    @tf.function\n",
    "    def call(self, x, training=True):\n",
    "        y0 = self.d0(x)\n",
    "        for layer in self.dense_layers:\n",
    "            y0 = layer(y0, training=training)\n",
    "        y = self.d1(y0)\n",
    "        return y\n",
    "\n",
    "def scaled_dot_product_attention(q, k, v, mask):\n",
    "    matmul_qk = tf.matmul(q, k, transpose_b=True)  # (..., seq_len_q, seq_len_k)\n",
    "\n",
    "    # scale matmul_qk\n",
    "    dk = tf.cast(tf.shape(k)[-1], tf.float32)\n",
    "    scaled_attention_logits = matmul_qk / tf.math.sqrt(dk)\n",
    "\n",
    "    # add the mask to the scaled tensor.\n",
    "    if mask is not None:\n",
    "        scaled_attention_logits += (mask * -1e9)  \n",
    "\n",
    "    # softmax is normalized on the last axis (seq_len_k) so that the scores\n",
    "    # add up to 1.\n",
    "    attention_weights = tf.nn.softmax(scaled_attention_logits, axis=-1)  # (..., seq_len_q, seq_len_k)\n",
    "\n",
    "    output = tf.matmul(attention_weights, v)  # (..., seq_len_q, depth_v)\n",
    "\n",
    "    return output, attention_weights\n",
    "\n",
    "class MultiHeadAttention(tf.keras.layers.Layer):\n",
    "    def __init__(self, d_model, num_heads):\n",
    "        super(MultiHeadAttention, self).__init__()\n",
    "        self.num_heads = num_heads\n",
    "        self.d_model = d_model\n",
    "\n",
    "        assert d_model % self.num_heads == 0\n",
    "\n",
    "        self.depth = d_model // self.num_heads\n",
    "\n",
    "        self.wq = tf.keras.layers.Dense(d_model)\n",
    "        self.wk = tf.keras.layers.Dense(d_model)\n",
    "        self.wv = tf.keras.layers.Dense(d_model)\n",
    "\n",
    "        self.dense = tf.keras.layers.Dense(d_model)\n",
    "\n",
    "    def split_heads(self, x, batch_size):\n",
    "        \"\"\"Split the last dimension into (num_heads, depth).\n",
    "        Transpose the result such that the shape is (batch_size, num_heads, seq_len, depth)\n",
    "        \"\"\"\n",
    "        x = tf.reshape(x, (batch_size, -1, self.num_heads, self.depth))\n",
    "        return tf.transpose(x, perm=[0, 2, 1, 3])\n",
    "\n",
    "    def call(self, v, k, q, mask):\n",
    "        batch_size = tf.shape(q)[0]\n",
    "\n",
    "        q = self.wq(q)  # (batch_size, seq_len, d_model)\n",
    "        k = self.wk(k)  # (batch_size, seq_len, d_model)\n",
    "        v = self.wv(v)  # (batch_size, seq_len, d_model)\n",
    "\n",
    "        q = self.split_heads(q, batch_size)  # (batch_size, num_heads, seq_len_q, depth)\n",
    "        k = self.split_heads(k, batch_size)  # (batch_size, num_heads, seq_len_k, depth)\n",
    "        v = self.split_heads(v, batch_size)  # (batch_size, num_heads, seq_len_v, depth)\n",
    "\n",
    "        # scaled_attention.shape == (batch_size, num_heads, seq_len_q, depth)\n",
    "        # attention_weights.shape == (batch_size, num_heads, seq_len_q, seq_len_k)\n",
    "        scaled_attention, attention_weights = scaled_dot_product_attention(\n",
    "            q, k, v, mask)\n",
    "\n",
    "        scaled_attention = tf.transpose(scaled_attention, perm=[0, 2, 1, 3])  # (batch_size, seq_len_q, num_heads, depth)\n",
    "\n",
    "        concat_attention = tf.reshape(scaled_attention, \n",
    "                                      (batch_size, -1, self.d_model))  # (batch_size, seq_len_q, d_model)\n",
    "\n",
    "        output = self.dense(concat_attention)  # (batch_size, seq_len_q, d_model)\n",
    "\n",
    "        return output, attention_weights\n",
    "    \n",
    "class SelfAttentionRegression(tf.keras.Model):\n",
    "    def __init__(self, output_dim, n_layers=4, d_model=256, num_heads=8, rate=0.1, **kwargs):\n",
    "        super().__init__()\n",
    "        self.d0 = tf.keras.layers.Dense(d_model, activation=tf.nn.relu, **kwargs)\n",
    "        self.attention_layers = [\n",
    "            MultiHeadAttention(d_model, num_heads, **kwargs) for i in range(n_layers)\n",
    "        ]\n",
    "        self.dropouts = [\n",
    "            tf.keras.layers.Dropout(rate) for i in range(n_layers)\n",
    "        ]\n",
    "        self.normalizes = [\n",
    "            tf.keras.layers.LayerNormalization(epsilon=1e-6) for i in range(n_layers)\n",
    "        ]\n",
    "        self.d1 = tf.keras.layers.Dense(output_dim, activation=None)\n",
    "        self.output_dim = output_dim\n",
    "    \n",
    "    @tf.function\n",
    "    def call(self, x, training=True, mask=None):\n",
    "#         print(x.shape)\n",
    "        x = self.d0(x)\n",
    "        for mha, dropout, normalize in zip(self.attention_layers, self.dropouts, self.normalizes):\n",
    "            attn_output, _ = mha(x, x, x, mask)  # (batch_size, input_seq_len, d_model)\n",
    "            attn_output = dropout(attn_output, training=training)\n",
    "            x = normalize(x + attn_output)  # (batch_size, input_seq_len, d_model)\n",
    "#             print(x.shape, attn_output.shape)\n",
    "\n",
    "        x = self.d1(x)\n",
    "#         print(x.shape)\n",
    "        return tf.squeeze(x)\n",
    "\n",
    "    \n",
    "class PlotCallback(tf.keras.callbacks.Callback):\n",
    "    def __init__(self, step=10):\n",
    "        self.step = step\n",
    "        self.data = defaultdict(list)\n",
    "\n",
    "    def saveas(self, path):\n",
    "        imageio.imwrite(str(path), imageio.imread(self.byte_image))\n",
    "        \n",
    "    def on_epoch_end(self, epoch, logs={}):\n",
    "        for key, value in logs.items():\n",
    "            self.data[key].append(value)\n",
    "        \n",
    "        if epoch % self.step != 0:\n",
    "            return\n",
    "        \n",
    "        fig, ax = plt.subplots()\n",
    "        for key, values in self.data.items():\n",
    "            ax.plot(values, label=key)\n",
    "        ax.legend()\n",
    "        ax.set_yscale('log')\n",
    "        io = BytesIO()\n",
    "        fig.savefig(io, format='png')\n",
    "        plt.close(fig)\n",
    "        \n",
    "        io.seek(0)\n",
    "        self.byte_image = io.getvalue()\n",
    "        \n",
    "        clear_output(wait=True)\n",
    "        display_png(Image(self.byte_image))\n",
    "test_model = SelfAttentionRegression(1, n_layers=4, d_model=256)\n",
    "print(test_model(tf.random.uniform((64, 1, 20))).shape)\n"
   ]
  },
  {
   "cell_type": "code",
   "execution_count": 348,
   "metadata": {
    "colab": {},
    "colab_type": "code",
    "id": "AhE3-UF-Ysvu"
   },
   "outputs": [
    {
     "data": {
      "image/png": "[encoded data removed]"
     },
     "metadata": {},
     "output_type": "display_data"
    },
    {
     "ename": "KeyboardInterrupt",
     "evalue": "",
     "output_type": "error",
     "traceback": [
      "\u001b[1;31m---------------------------------------------------------------------------\u001b[0m",
      "\u001b[1;31mKeyboardInterrupt\u001b[0m                         Traceback (most recent call last)",
      "\u001b[1;32m<ipython-input-348-3d8d5b6e7d08>\u001b[0m in \u001b[0;36m<module>\u001b[1;34m\u001b[0m\n\u001b[0;32m     59\u001b[0m             \u001b[0mvalidation_data\u001b[0m\u001b[1;33m=\u001b[0m\u001b[0mvalid_dataset\u001b[0m\u001b[1;33m,\u001b[0m\u001b[1;33m\u001b[0m\u001b[1;33m\u001b[0m\u001b[0m\n\u001b[0;32m     60\u001b[0m             \u001b[0mcallbacks\u001b[0m\u001b[1;33m=\u001b[0m\u001b[0mcallbacks\u001b[0m\u001b[1;33m,\u001b[0m\u001b[1;33m\u001b[0m\u001b[1;33m\u001b[0m\u001b[0m\n\u001b[1;32m---> 61\u001b[1;33m             \u001b[0mverbose\u001b[0m\u001b[1;33m=\u001b[0m\u001b[1;36m0\u001b[0m\u001b[1;33m\u001b[0m\u001b[1;33m\u001b[0m\u001b[0m\n\u001b[0m\u001b[0;32m     62\u001b[0m         )\n\u001b[0;32m     63\u001b[0m         \u001b[0mplot_callback\u001b[0m\u001b[1;33m.\u001b[0m\u001b[0msaveas\u001b[0m\u001b[1;33m(\u001b[0m\u001b[0moutput_dir\u001b[0m \u001b[1;33m/\u001b[0m \u001b[1;34mf'loss_{i}.png'\u001b[0m\u001b[1;33m)\u001b[0m\u001b[1;33m\u001b[0m\u001b[1;33m\u001b[0m\u001b[0m\n",
      "\u001b[1;32m~\\anaconda3\\lib\\site-packages\\tensorflow\\python\\keras\\engine\\training.py\u001b[0m in \u001b[0;36m_method_wrapper\u001b[1;34m(self, *args, **kwargs)\u001b[0m\n\u001b[0;32m     64\u001b[0m   \u001b[1;32mdef\u001b[0m \u001b[0m_method_wrapper\u001b[0m\u001b[1;33m(\u001b[0m\u001b[0mself\u001b[0m\u001b[1;33m,\u001b[0m \u001b[1;33m*\u001b[0m\u001b[0margs\u001b[0m\u001b[1;33m,\u001b[0m \u001b[1;33m**\u001b[0m\u001b[0mkwargs\u001b[0m\u001b[1;33m)\u001b[0m\u001b[1;33m:\u001b[0m\u001b[1;33m\u001b[0m\u001b[1;33m\u001b[0m\u001b[0m\n\u001b[0;32m     65\u001b[0m     \u001b[1;32mif\u001b[0m \u001b[1;32mnot\u001b[0m \u001b[0mself\u001b[0m\u001b[1;33m.\u001b[0m\u001b[0m_in_multi_worker_mode\u001b[0m\u001b[1;33m(\u001b[0m\u001b[1;33m)\u001b[0m\u001b[1;33m:\u001b[0m  \u001b[1;31m# pylint: disable=protected-access\u001b[0m\u001b[1;33m\u001b[0m\u001b[1;33m\u001b[0m\u001b[0m\n\u001b[1;32m---> 66\u001b[1;33m       \u001b[1;32mreturn\u001b[0m \u001b[0mmethod\u001b[0m\u001b[1;33m(\u001b[0m\u001b[0mself\u001b[0m\u001b[1;33m,\u001b[0m \u001b[1;33m*\u001b[0m\u001b[0margs\u001b[0m\u001b[1;33m,\u001b[0m \u001b[1;33m**\u001b[0m\u001b[0mkwargs\u001b[0m\u001b[1;33m)\u001b[0m\u001b[1;33m\u001b[0m\u001b[1;33m\u001b[0m\u001b[0m\n\u001b[0m\u001b[0;32m     67\u001b[0m \u001b[1;33m\u001b[0m\u001b[0m\n\u001b[0;32m     68\u001b[0m     \u001b[1;31m# Running inside `run_distribute_coordinator` already.\u001b[0m\u001b[1;33m\u001b[0m\u001b[1;33m\u001b[0m\u001b[1;33m\u001b[0m\u001b[0m\n",
      "\u001b[1;32m~\\anaconda3\\lib\\site-packages\\tensorflow\\python\\keras\\engine\\training.py\u001b[0m in \u001b[0;36mfit\u001b[1;34m(self, x, y, batch_size, epochs, verbose, callbacks, validation_split, validation_data, shuffle, class_weight, sample_weight, initial_epoch, steps_per_epoch, validation_steps, validation_batch_size, validation_freq, max_queue_size, workers, use_multiprocessing)\u001b[0m\n\u001b[0;32m    846\u001b[0m                 batch_size=batch_size):\n\u001b[0;32m    847\u001b[0m               \u001b[0mcallbacks\u001b[0m\u001b[1;33m.\u001b[0m\u001b[0mon_train_batch_begin\u001b[0m\u001b[1;33m(\u001b[0m\u001b[0mstep\u001b[0m\u001b[1;33m)\u001b[0m\u001b[1;33m\u001b[0m\u001b[1;33m\u001b[0m\u001b[0m\n\u001b[1;32m--> 848\u001b[1;33m               \u001b[0mtmp_logs\u001b[0m \u001b[1;33m=\u001b[0m \u001b[0mtrain_function\u001b[0m\u001b[1;33m(\u001b[0m\u001b[0miterator\u001b[0m\u001b[1;33m)\u001b[0m\u001b[1;33m\u001b[0m\u001b[1;33m\u001b[0m\u001b[0m\n\u001b[0m\u001b[0;32m    849\u001b[0m               \u001b[1;31m# Catch OutOfRangeError for Datasets of unknown size.\u001b[0m\u001b[1;33m\u001b[0m\u001b[1;33m\u001b[0m\u001b[1;33m\u001b[0m\u001b[0m\n\u001b[0;32m    850\u001b[0m               \u001b[1;31m# This blocks until the batch has finished executing.\u001b[0m\u001b[1;33m\u001b[0m\u001b[1;33m\u001b[0m\u001b[1;33m\u001b[0m\u001b[0m\n",
      "\u001b[1;32m~\\anaconda3\\lib\\site-packages\\tensorflow\\python\\eager\\def_function.py\u001b[0m in \u001b[0;36m__call__\u001b[1;34m(self, *args, **kwds)\u001b[0m\n\u001b[0;32m    578\u001b[0m         \u001b[0mxla_context\u001b[0m\u001b[1;33m.\u001b[0m\u001b[0mExit\u001b[0m\u001b[1;33m(\u001b[0m\u001b[1;33m)\u001b[0m\u001b[1;33m\u001b[0m\u001b[1;33m\u001b[0m\u001b[0m\n\u001b[0;32m    579\u001b[0m     \u001b[1;32melse\u001b[0m\u001b[1;33m:\u001b[0m\u001b[1;33m\u001b[0m\u001b[1;33m\u001b[0m\u001b[0m\n\u001b[1;32m--> 580\u001b[1;33m       \u001b[0mresult\u001b[0m \u001b[1;33m=\u001b[0m \u001b[0mself\u001b[0m\u001b[1;33m.\u001b[0m\u001b[0m_call\u001b[0m\u001b[1;33m(\u001b[0m\u001b[1;33m*\u001b[0m\u001b[0margs\u001b[0m\u001b[1;33m,\u001b[0m \u001b[1;33m**\u001b[0m\u001b[0mkwds\u001b[0m\u001b[1;33m)\u001b[0m\u001b[1;33m\u001b[0m\u001b[1;33m\u001b[0m\u001b[0m\n\u001b[0m\u001b[0;32m    581\u001b[0m \u001b[1;33m\u001b[0m\u001b[0m\n\u001b[0;32m    582\u001b[0m     \u001b[1;32mif\u001b[0m \u001b[0mtracing_count\u001b[0m \u001b[1;33m==\u001b[0m \u001b[0mself\u001b[0m\u001b[1;33m.\u001b[0m\u001b[0m_get_tracing_count\u001b[0m\u001b[1;33m(\u001b[0m\u001b[1;33m)\u001b[0m\u001b[1;33m:\u001b[0m\u001b[1;33m\u001b[0m\u001b[1;33m\u001b[0m\u001b[0m\n",
      "\u001b[1;32m~\\anaconda3\\lib\\site-packages\\tensorflow\\python\\eager\\def_function.py\u001b[0m in \u001b[0;36m_call\u001b[1;34m(self, *args, **kwds)\u001b[0m\n\u001b[0;32m    609\u001b[0m       \u001b[1;31m# In this case we have created variables on the first call, so we run the\u001b[0m\u001b[1;33m\u001b[0m\u001b[1;33m\u001b[0m\u001b[1;33m\u001b[0m\u001b[0m\n\u001b[0;32m    610\u001b[0m       \u001b[1;31m# defunned version which is guaranteed to never create variables.\u001b[0m\u001b[1;33m\u001b[0m\u001b[1;33m\u001b[0m\u001b[1;33m\u001b[0m\u001b[0m\n\u001b[1;32m--> 611\u001b[1;33m       \u001b[1;32mreturn\u001b[0m \u001b[0mself\u001b[0m\u001b[1;33m.\u001b[0m\u001b[0m_stateless_fn\u001b[0m\u001b[1;33m(\u001b[0m\u001b[1;33m*\u001b[0m\u001b[0margs\u001b[0m\u001b[1;33m,\u001b[0m \u001b[1;33m**\u001b[0m\u001b[0mkwds\u001b[0m\u001b[1;33m)\u001b[0m  \u001b[1;31m# pylint: disable=not-callable\u001b[0m\u001b[1;33m\u001b[0m\u001b[1;33m\u001b[0m\u001b[0m\n\u001b[0m\u001b[0;32m    612\u001b[0m     \u001b[1;32melif\u001b[0m \u001b[0mself\u001b[0m\u001b[1;33m.\u001b[0m\u001b[0m_stateful_fn\u001b[0m \u001b[1;32mis\u001b[0m \u001b[1;32mnot\u001b[0m \u001b[1;32mNone\u001b[0m\u001b[1;33m:\u001b[0m\u001b[1;33m\u001b[0m\u001b[1;33m\u001b[0m\u001b[0m\n\u001b[0;32m    613\u001b[0m       \u001b[1;31m# Release the lock early so that multiple threads can perform the call\u001b[0m\u001b[1;33m\u001b[0m\u001b[1;33m\u001b[0m\u001b[1;33m\u001b[0m\u001b[0m\n",
      "\u001b[1;32m~\\anaconda3\\lib\\site-packages\\tensorflow\\python\\eager\\function.py\u001b[0m in \u001b[0;36m__call__\u001b[1;34m(self, *args, **kwargs)\u001b[0m\n\u001b[0;32m   2418\u001b[0m     \u001b[1;32mwith\u001b[0m \u001b[0mself\u001b[0m\u001b[1;33m.\u001b[0m\u001b[0m_lock\u001b[0m\u001b[1;33m:\u001b[0m\u001b[1;33m\u001b[0m\u001b[1;33m\u001b[0m\u001b[0m\n\u001b[0;32m   2419\u001b[0m       \u001b[0mgraph_function\u001b[0m\u001b[1;33m,\u001b[0m \u001b[0margs\u001b[0m\u001b[1;33m,\u001b[0m \u001b[0mkwargs\u001b[0m \u001b[1;33m=\u001b[0m \u001b[0mself\u001b[0m\u001b[1;33m.\u001b[0m\u001b[0m_maybe_define_function\u001b[0m\u001b[1;33m(\u001b[0m\u001b[0margs\u001b[0m\u001b[1;33m,\u001b[0m \u001b[0mkwargs\u001b[0m\u001b[1;33m)\u001b[0m\u001b[1;33m\u001b[0m\u001b[1;33m\u001b[0m\u001b[0m\n\u001b[1;32m-> 2420\u001b[1;33m     \u001b[1;32mreturn\u001b[0m \u001b[0mgraph_function\u001b[0m\u001b[1;33m.\u001b[0m\u001b[0m_filtered_call\u001b[0m\u001b[1;33m(\u001b[0m\u001b[0margs\u001b[0m\u001b[1;33m,\u001b[0m \u001b[0mkwargs\u001b[0m\u001b[1;33m)\u001b[0m  \u001b[1;31m# pylint: disable=protected-access\u001b[0m\u001b[1;33m\u001b[0m\u001b[1;33m\u001b[0m\u001b[0m\n\u001b[0m\u001b[0;32m   2421\u001b[0m \u001b[1;33m\u001b[0m\u001b[0m\n\u001b[0;32m   2422\u001b[0m   \u001b[1;33m@\u001b[0m\u001b[0mproperty\u001b[0m\u001b[1;33m\u001b[0m\u001b[1;33m\u001b[0m\u001b[0m\n",
      "\u001b[1;32m~\\anaconda3\\lib\\site-packages\\tensorflow\\python\\eager\\function.py\u001b[0m in \u001b[0;36m_filtered_call\u001b[1;34m(self, args, kwargs)\u001b[0m\n\u001b[0;32m   1663\u001b[0m          if isinstance(t, (ops.Tensor,\n\u001b[0;32m   1664\u001b[0m                            resource_variable_ops.BaseResourceVariable))),\n\u001b[1;32m-> 1665\u001b[1;33m         self.captured_inputs)\n\u001b[0m\u001b[0;32m   1666\u001b[0m \u001b[1;33m\u001b[0m\u001b[0m\n\u001b[0;32m   1667\u001b[0m   \u001b[1;32mdef\u001b[0m \u001b[0m_call_flat\u001b[0m\u001b[1;33m(\u001b[0m\u001b[0mself\u001b[0m\u001b[1;33m,\u001b[0m \u001b[0margs\u001b[0m\u001b[1;33m,\u001b[0m \u001b[0mcaptured_inputs\u001b[0m\u001b[1;33m,\u001b[0m \u001b[0mcancellation_manager\u001b[0m\u001b[1;33m=\u001b[0m\u001b[1;32mNone\u001b[0m\u001b[1;33m)\u001b[0m\u001b[1;33m:\u001b[0m\u001b[1;33m\u001b[0m\u001b[1;33m\u001b[0m\u001b[0m\n",
      "\u001b[1;32m~\\anaconda3\\lib\\site-packages\\tensorflow\\python\\eager\\function.py\u001b[0m in \u001b[0;36m_call_flat\u001b[1;34m(self, args, captured_inputs, cancellation_manager)\u001b[0m\n\u001b[0;32m   1744\u001b[0m       \u001b[1;31m# No tape is watching; skip to running the function.\u001b[0m\u001b[1;33m\u001b[0m\u001b[1;33m\u001b[0m\u001b[1;33m\u001b[0m\u001b[0m\n\u001b[0;32m   1745\u001b[0m       return self._build_call_outputs(self._inference_function.call(\n\u001b[1;32m-> 1746\u001b[1;33m           ctx, args, cancellation_manager=cancellation_manager))\n\u001b[0m\u001b[0;32m   1747\u001b[0m     forward_backward = self._select_forward_and_backward_functions(\n\u001b[0;32m   1748\u001b[0m         \u001b[0margs\u001b[0m\u001b[1;33m,\u001b[0m\u001b[1;33m\u001b[0m\u001b[1;33m\u001b[0m\u001b[0m\n",
      "\u001b[1;32m~\\anaconda3\\lib\\site-packages\\tensorflow\\python\\eager\\function.py\u001b[0m in \u001b[0;36mcall\u001b[1;34m(self, ctx, args, cancellation_manager)\u001b[0m\n\u001b[0;32m    596\u001b[0m               \u001b[0minputs\u001b[0m\u001b[1;33m=\u001b[0m\u001b[0margs\u001b[0m\u001b[1;33m,\u001b[0m\u001b[1;33m\u001b[0m\u001b[1;33m\u001b[0m\u001b[0m\n\u001b[0;32m    597\u001b[0m               \u001b[0mattrs\u001b[0m\u001b[1;33m=\u001b[0m\u001b[0mattrs\u001b[0m\u001b[1;33m,\u001b[0m\u001b[1;33m\u001b[0m\u001b[1;33m\u001b[0m\u001b[0m\n\u001b[1;32m--> 598\u001b[1;33m               ctx=ctx)\n\u001b[0m\u001b[0;32m    599\u001b[0m         \u001b[1;32melse\u001b[0m\u001b[1;33m:\u001b[0m\u001b[1;33m\u001b[0m\u001b[1;33m\u001b[0m\u001b[0m\n\u001b[0;32m    600\u001b[0m           outputs = execute.execute_with_cancellation(\n",
      "\u001b[1;32m~\\anaconda3\\lib\\site-packages\\tensorflow\\python\\eager\\execute.py\u001b[0m in \u001b[0;36mquick_execute\u001b[1;34m(op_name, num_outputs, inputs, attrs, ctx, name)\u001b[0m\n\u001b[0;32m     58\u001b[0m     \u001b[0mctx\u001b[0m\u001b[1;33m.\u001b[0m\u001b[0mensure_initialized\u001b[0m\u001b[1;33m(\u001b[0m\u001b[1;33m)\u001b[0m\u001b[1;33m\u001b[0m\u001b[1;33m\u001b[0m\u001b[0m\n\u001b[0;32m     59\u001b[0m     tensors = pywrap_tfe.TFE_Py_Execute(ctx._handle, device_name, op_name,\n\u001b[1;32m---> 60\u001b[1;33m                                         inputs, attrs, num_outputs)\n\u001b[0m\u001b[0;32m     61\u001b[0m   \u001b[1;32mexcept\u001b[0m \u001b[0mcore\u001b[0m\u001b[1;33m.\u001b[0m\u001b[0m_NotOkStatusException\u001b[0m \u001b[1;32mas\u001b[0m \u001b[0me\u001b[0m\u001b[1;33m:\u001b[0m\u001b[1;33m\u001b[0m\u001b[1;33m\u001b[0m\u001b[0m\n\u001b[0;32m     62\u001b[0m     \u001b[1;32mif\u001b[0m \u001b[0mname\u001b[0m \u001b[1;32mis\u001b[0m \u001b[1;32mnot\u001b[0m \u001b[1;32mNone\u001b[0m\u001b[1;33m:\u001b[0m\u001b[1;33m\u001b[0m\u001b[1;33m\u001b[0m\u001b[0m\n",
      "\u001b[1;31mKeyboardInterrupt\u001b[0m: "
     ]
    }
   ],
   "source": [
    "models = []\n",
    "output_dir = Path('loss_dense_net')\n",
    "output_dir.mkdir(exist_ok=True)\n",
    "\n",
    "# 'dense', 'resnet', 'attention'\n",
    "mode = 'resnet'\n",
    "\n",
    "\n",
    "def make_tf_dataset(xs_df, ys_df):\n",
    "    return tf.data.Dataset.from_tensor_slices(\n",
    "        make_tuple_dataset(xs_df, ys_df)\n",
    "    ).shuffle(buffer_size=len(xs_df)) \\\n",
    "      .batch(64)\n",
    "\n",
    "def make_tuple_dataset(xs_df, ys_df):\n",
    "    if mode == 'attention':\n",
    "        return (\n",
    "            xs_df.to_numpy().astype(np.float32)[:, None, :], \n",
    "            ys_df.to_numpy().astype(np.float32)\n",
    "        )\n",
    "    else:\n",
    "        return (\n",
    "            xs_df.to_numpy().astype(np.float32), \n",
    "            ys_df.to_numpy().astype(np.float32)\n",
    "        )\n",
    "for i in trange(KFOLD):\n",
    "    with tf.device('/gpu:0'):\n",
    "        train_df, valid_df, test_df = get_dataset(i, no_valid=no_valid)\n",
    "        train_xs_df, train_ys_df, converters = get_data(train_df, fillna='median', y_log=True)\n",
    "        valid_xs_df, valid_ys_df, _ = get_data(valid_df, converters=converters)\n",
    "        test_xs_df, test_ys_df, _ = get_data(test_df, converters=converters)\n",
    "\n",
    "        #train_dataset = make_tf_dataset(train_xs_df, train_ys_df)\n",
    "        #valid_dataset = make_tf_dataset(valid_xs_df, valid_ys_df)\n",
    "        train_dataset = make_tuple_dataset(train_xs_df, train_ys_df)\n",
    "        valid_dataset = make_tuple_dataset(valid_xs_df, valid_ys_df)\n",
    "        \n",
    "        if mode == 'dense':\n",
    "            model = DenseRegressor([1000] * 4 + [1])\n",
    "        elif mode == 'resnet':\n",
    "            model = ResidualRegressor(1, n_layers=30, n_dims=1000)\n",
    "        elif mode == 'attention':\n",
    "            model = SelfAttentionRegression(1, n_layers=4, d_model=256)\n",
    "        model.compile(\n",
    "            optimizer=tf.keras.optimizers.Adam(learning_rate=1e-5), \n",
    "            loss=['mean_squared_error'], #mean_squared_logarithmic_error\n",
    "            metrics=['mean_absolute_error'],\n",
    "        )\n",
    "\n",
    "        plot_callback =  PlotCallback(step=100)\n",
    "        callbacks = [\n",
    "            plot_callback, \n",
    "            tf.keras.callbacks.EarlyStopping(monitor='val_loss', patience=500)\n",
    "        ]\n",
    "        model.fit(\n",
    "            *train_dataset, epochs=30000, \n",
    "            batch_size=64, \n",
    "            shuffle=True,\n",
    "            validation_data=valid_dataset, \n",
    "            callbacks=callbacks,\n",
    "            verbose=0\n",
    "        )\n",
    "        plot_callback.saveas(output_dir / f'loss_{i}.png')\n",
    "\n",
    "        models.append(model)\n"
   ]
  },
  {
   "cell_type": "code",
   "execution_count": 346,
   "metadata": {},
   "outputs": [
    {
     "data": {
      "application/vnd.jupyter.widget-view+json": {
       "model_id": "f61dac5353ca4f2697f1649a91221db1",
       "version_major": 2,
       "version_minor": 0
      },
      "text/plain": [
       "HBox(children=(FloatProgress(value=0.0, max=3.0), HTML(value='')))"
      ]
     },
     "metadata": {},
     "output_type": "display_data"
    },
    {
     "name": "stdout",
     "output_type": "stream",
     "text": [
      "WARNING:tensorflow:5 out of the last 6 calls to <function SelfAttentionRegression.call at 0x0000026C65F37048> triggered tf.function retracing. Tracing is expensive and the excessive number of tracings is likely due to passing python objects instead of tensors. Also, tf.function has experimental_relax_shapes=True option that relaxes argument shapes that can avoid unnecessary retracing. Please refer to https://www.tensorflow.org/tutorials/customization/performance#python_or_tensor_args and https://www.tensorflow.org/api_docs/python/tf/function for more details.\n",
      "\n"
     ]
    },
    {
     "data": {
      "application/vnd.jupyter.widget-view+json": {
       "model_id": "9f1810f55ce94cb69c71ae03ccf45e25",
       "version_major": 2,
       "version_minor": 0
      },
      "text/plain": [
       "HBox(children=(FloatProgress(value=0.0, max=3.0), HTML(value='')))"
      ]
     },
     "metadata": {},
     "output_type": "display_data"
    },
    {
     "name": "stdout",
     "output_type": "stream",
     "text": [
      "\n"
     ]
    },
    {
     "data": {
      "application/vnd.jupyter.widget-view+json": {
       "model_id": "8cc468fee2404af290ef076ba9e91d93",
       "version_major": 2,
       "version_minor": 0
      },
      "text/plain": [
       "HBox(children=(FloatProgress(value=0.0, max=3.0), HTML(value='')))"
      ]
     },
     "metadata": {},
     "output_type": "display_data"
    },
    {
     "name": "stdout",
     "output_type": "stream",
     "text": [
      "\n"
     ]
    },
    {
     "data": {
      "application/vnd.jupyter.widget-view+json": {
       "model_id": "c4089e01e5b5408f8574636701fffbe3",
       "version_major": 2,
       "version_minor": 0
      },
      "text/plain": [
       "HBox(children=(FloatProgress(value=0.0, max=3.0), HTML(value='')))"
      ]
     },
     "metadata": {},
     "output_type": "display_data"
    },
    {
     "name": "stdout",
     "output_type": "stream",
     "text": [
      "\n"
     ]
    },
    {
     "data": {
      "application/vnd.jupyter.widget-view+json": {
       "model_id": "f30bc71199a244e38465f35102ee4b98",
       "version_major": 2,
       "version_minor": 0
      },
      "text/plain": [
       "HBox(children=(FloatProgress(value=0.0, max=3.0), HTML(value='')))"
      ]
     },
     "metadata": {},
     "output_type": "display_data"
    },
    {
     "name": "stdout",
     "output_type": "stream",
     "text": [
      "\n"
     ]
    }
   ],
   "source": [
    "# Evaluation models\n",
    "BATCH_SIZE = 64\n",
    "dl_dense_metrics = []\n",
    "for key, model in enumerate(models):\n",
    "    train_df, valid_df, test_df = get_dataset(i, no_valid=no_valid)\n",
    "    train_xs_df, train_ys_df, _ = get_data(train_df, converters=converters, )\n",
    "    valid_xs_df, valid_ys_df, _ = get_data(valid_df, converters=converters)\n",
    "    test_xs_df, test_ys_df, _ = get_data(test_df, converters=converters)\n",
    "    \n",
    "    data = [\n",
    "        ('train', train_xs_df, train_ys_df),\n",
    "        ('valid', valid_xs_df, valid_ys_df),\n",
    "        ('test', test_xs_df, test_ys_df),\n",
    "    ]\n",
    "    \n",
    "    ys_conv = converters['SalePrice']\n",
    "    for name, xs_df, ys_df in tqdm(data):\n",
    "        xs, ys = make_tuple_dataset(xs_df, ys_df)\n",
    "        \n",
    "        ys_pred = []\n",
    "        ys_truth = []\n",
    "        for b in range(0, len(ys), BATCH_SIZE):\n",
    "            start = b\n",
    "            end = b + BATCH_SIZE\n",
    "            ys_pred.extend(ys_conv.backward(model(xs[start:end], training=False)))\n",
    "            ys_truth.extend(ys_conv.backward(ys[start:end]))\n",
    "        \n",
    "        errors = np.abs(np.array(ys_pred) - np.array(ys_truth)).ravel()\n",
    "        dl_dense_metrics.extend([\n",
    "            {\n",
    "                'id': i,\n",
    "                'fold': key,\n",
    "                'error': error,\n",
    "                'name': name,\n",
    "                'truth': truth, \n",
    "                'pred': pred\n",
    "            }\n",
    "            for i, error, pred, truth in zip(xs_df['Id'], errors, ys_pred, ys_truth)\n",
    "        ])\n",
    "# dl_dense_metrics_df = pd.DataFrame(dl_dense_metrics)\n",
    "dl_resnet_metrics_df = pd.DataFrame(dl_dense_metrics)"
   ]
  },
  {
   "cell_type": "code",
   "execution_count": 347,
   "metadata": {},
   "outputs": [
    {
     "name": "stdout",
     "output_type": "stream",
     "text": [
      "train\n"
     ]
    },
    {
     "data": {
      "text/plain": [
       "count      4670.000000\n",
       "mean     129861.907894\n",
       "std       63906.055360\n",
       "min        5066.750000\n",
       "25%       84747.253906\n",
       "50%      118893.296875\n",
       "75%      161454.558594\n",
       "max      695798.187500\n",
       "Name: error, dtype: float64"
      ]
     },
     "metadata": {},
     "output_type": "display_data"
    },
    {
     "name": "stdout",
     "output_type": "stream",
     "text": [
      "valid\n"
     ]
    },
    {
     "data": {
      "text/plain": [
       "count      1170.000000\n",
       "mean     129028.789487\n",
       "std       57856.698674\n",
       "min          74.554688\n",
       "25%       87146.568359\n",
       "50%      120301.511719\n",
       "75%      160683.421875\n",
       "max      351518.750000\n",
       "Name: error, dtype: float64"
      ]
     },
     "metadata": {},
     "output_type": "display_data"
    },
    {
     "name": "stdout",
     "output_type": "stream",
     "text": [
      "test\n"
     ]
    },
    {
     "data": {
      "text/plain": [
       "count      1460.000000\n",
       "mean     130179.198539\n",
       "std       69402.031950\n",
       "min          78.750000\n",
       "25%       86241.150391\n",
       "50%      116523.968750\n",
       "75%      160585.457031\n",
       "max      813257.062500\n",
       "Name: error, dtype: float64"
      ]
     },
     "metadata": {},
     "output_type": "display_data"
    },
    {
     "data": {
      "image/png": "[encoded data removed]",
      "text/plain": [
       "<Figure size 432x288 with 1 Axes>"
      ]
     },
     "metadata": {
      "needs_background": "light"
     },
     "output_type": "display_data"
    },
    {
     "data": {
      "image/png": "[encoded data removed]",
      "text/plain": [
       "<Figure size 432x432 with 3 Axes>"
      ]
     },
     "metadata": {
      "needs_background": "light"
     },
     "output_type": "display_data"
    },
    {
     "data": {
      "image/png": "[encoded data removed]",
      "text/plain": [
       "<Figure size 432x432 with 3 Axes>"
      ]
     },
     "metadata": {
      "needs_background": "light"
     },
     "output_type": "display_data"
    },
    {
     "data": {
      "image/png": "[encoded data removed]",
      "text/plain": [
       "<Figure size 432x432 with 3 Axes>"
      ]
     },
     "metadata": {
      "needs_background": "light"
     },
     "output_type": "display_data"
    }
   ],
   "source": [
    "import seaborn as sns\n",
    "import matplotlib.pyplot as plt\n",
    "fig, ax = plt.subplots()\n",
    "metric_df = dl_resnet_metrics_df\n",
    "sns.boxplot(\n",
    "    data=metric_df,\n",
    "    x='name',\n",
    "    y='error',\n",
    "    ax=ax,\n",
    ")\n",
    "ax.set_yscale('log')\n",
    "\n",
    "max_price = metric_df['truth'].max()\n",
    "for name in ['train', 'valid', 'test']:\n",
    "    df = metric_df.query(f'name==\"{name}\"')\n",
    "    df = df.replace([np.inf, -np.inf], np.nan)\n",
    "\n",
    "    grid = sns.jointplot(\n",
    "        data=df,\n",
    "        x='truth', y='pred',\n",
    "        xlim=[0, max_price], ylim=[0, max_price],\n",
    "        kind='scatter'\n",
    "        \n",
    "    )\n",
    "    grid.ax_joint.plot([0,max_price], [0,max_price], color='k', linestyle='--')\n",
    "    print(name)\n",
    "    display(df['error'].describe())"
   ]
  },
  {
   "cell_type": "markdown",
   "metadata": {
    "colab_type": "text",
    "id": "05NL2VuLwt75"
   },
   "source": [
    "## Dense regressor"
   ]
  },
  {
   "cell_type": "code",
   "execution_count": null,
   "metadata": {
    "colab": {},
    "colab_type": "code",
    "id": "UtZ4KHAH1WwI"
   },
   "outputs": [],
   "source": []
  },
  {
   "cell_type": "code",
   "execution_count": null,
   "metadata": {
    "colab": {},
    "colab_type": "code",
    "id": "QSJ9fcDhaxB7"
   },
   "outputs": [],
   "source": []
  },
  {
   "cell_type": "markdown",
   "metadata": {
    "colab_type": "text",
    "id": "QorJM1txwwUR"
   },
   "source": [
    "## RUN"
   ]
  },
  {
   "cell_type": "code",
   "execution_count": 130,
   "metadata": {
    "colab": {},
    "colab_type": "code",
    "id": "Zcy75glSyU6a"
   },
   "outputs": [
    {
     "ename": "SyntaxError",
     "evalue": "invalid syntax (<ipython-input-130-d306c61451f1>, line 2)",
     "output_type": "error",
     "traceback": [
      "\u001b[1;36m  File \u001b[1;32m\"<ipython-input-130-d306c61451f1>\"\u001b[1;36m, line \u001b[1;32m2\u001b[0m\n\u001b[1;33m    xs_train = xs_train.astype(np.float32)\u001b[0m\n\u001b[1;37m           ^\u001b[0m\n\u001b[1;31mSyntaxError\u001b[0m\u001b[1;31m:\u001b[0m invalid syntax\n"
     ]
    }
   ],
   "source": [
    "models = []\n",
    "for n in range(KFOLD): \n",
    "    print(f'[{n}/{k_fold}]')\n",
    "    xs_train_ = xs_train[train_index]\n",
    "    xs_valid = xs_train[valid_index]\n",
    "    ys_train_ = ys_train[train_index]\n",
    "    ys_valid = ys_train[valid_index]\n",
    "\n",
    "    estimator = DenseRegressor(128, 100)#, kernel_regularizer=tf.keras.regularizers.l2())\n",
    "    \n",
    "    estimator.compile(\n",
    "        optimizer=tf.keras.optimizers.Adam(learning_rate=1e-3), \n",
    "        loss=['mean_absolute_error'], #mean_squared_logarithmic_error\n",
    "        metrics=['mean_absolute_error'],\n",
    "    )\n",
    "    train_dataset = tf.data.Dataset.from_tensor_slices(\n",
    "        (xs_train_.astype(np.float32), ys_train_.astype(np.float32))\n",
    "    ).shuffle(buffer_size=len(xs_train)) \\\n",
    "     .repeat(1) \\\n",
    "     .batch(64)\n",
    "    valid_dataset = tf.data.Dataset.from_tensor_slices(\n",
    "        (xs_valid.astype(np.float32), ys_valid.astype(np.float32))\n",
    "    ).shuffle(buffer_size=len(xs_valid))\\\n",
    "     .batch(64)\n",
    "    \n",
    "    plot_callback = PlotCallback()\n",
    "    estimator.fit(\n",
    "        train_dataset, epochs=40, \n",
    "        validation_data=valid_dataset, \n",
    "        callbacks=[plot_callback, ])\n",
    "    estimators.append(estimator)\n",
    "    plot_callback.saveas(str(drive_path / f'loss_{n}.png'))\n",
    "\n",
    "    ys_pred_train  = estimator.predict(tf.convert_to_tensor(xs_train_))\n",
    "    ys_pred_valid  = estimator.predict(tf.convert_to_tensor(xs_valid))\n",
    "\n",
    "    display_result(ys_train_, ys_pred_train, True, only_print=True)\n",
    "    display_result(ys_valid, ys_pred_valid, only_print=True)"
   ]
  },
  {
   "cell_type": "code",
   "execution_count": null,
   "metadata": {
    "colab": {},
    "colab_type": "code",
    "id": "qj6nl34y1QCl"
   },
   "outputs": [],
   "source": [
    "from collections import defaultdict\n",
    "d = {}\n",
    "for i, estimator in enumerate(estimators):\n",
    "    d[i] = estimator.predict(tf.convert_to_tensor(test.to_numpy().astype(np.float32))).ravel()\n",
    "d['id'] = test_id.to_numpy()\n",
    "pd.DataFrame(d).to_csv(str(drive_path / 'output.csv'), index=False)\n"
   ]
  },
  {
   "cell_type": "code",
   "execution_count": null,
   "metadata": {
    "colab": {},
    "colab_type": "code",
    "id": "AmXAmHuC7Akv"
   },
   "outputs": [],
   "source": [
    "!pip install -U pandas"
   ]
  },
  {
   "cell_type": "code",
   "execution_count": null,
   "metadata": {
    "colab": {},
    "colab_type": "code",
    "id": "T_FxzPiC6yuj"
   },
   "outputs": [],
   "source": [
    "for i, e in enumerate(estimators):\n",
    "    e.save(str(drive_path / f'estimator{i}.h5'), include_optimizer=False)\n"
   ]
  }
 ],
 "metadata": {
  "colab": {
   "authorship_tag": "ABX9TyO0zHHzEyUAtxsVNrLthgPC",
   "collapsed_sections": [
    "05NL2VuLwt75"
   ],
   "mount_file_id": "1LR0bS5DIuxTmosvVAtga0mAof4vrBeP5",
   "name": "HousePriceRegression.ipynb",
   "private_outputs": true,
   "provenance": []
  },
  "kernelspec": {
   "display_name": "Python 3",
   "language": "python",
   "name": "python3"
  },
  "language_info": {
   "codemirror_mode": {
    "name": "ipython",
    "version": 3
   },
   "file_extension": ".py",
   "mimetype": "text/x-python",
   "name": "python",
   "nbconvert_exporter": "python",
   "pygments_lexer": "ipython3",
   "version": "3.7.6"
  }
 },
 "nbformat": 4,
 "nbformat_minor": 4
}
